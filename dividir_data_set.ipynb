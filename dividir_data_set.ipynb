{
 "cells": [
  {
   "cell_type": "code",
   "execution_count": null,
   "id": "767c1cca",
   "metadata": {},
   "outputs": [],
   "source": [
    "!pip install pandas"
   ]
  },
  {
   "cell_type": "code",
   "execution_count": null,
   "id": "8b2141e6-d9cb-4dfe-812b-4c5be78eb732",
   "metadata": {},
   "outputs": [],
   "source": []
  },
  {
   "cell_type": "code",
   "execution_count": null,
   "id": "bccb1683",
   "metadata": {},
   "outputs": [],
   "source": [
    "import os, pandas as pd "
   ]
  },
  {
   "cell_type": "code",
   "execution_count": null,
   "id": "54531fc4",
   "metadata": {},
   "outputs": [],
   "source": [
    "csv = pd.read_csv(\"Data_Entry_2017.csv\")"
   ]
  },
  {
   "cell_type": "code",
   "execution_count": null,
   "id": "17b3f942",
   "metadata": {},
   "outputs": [],
   "source": [
    "csv.head()"
   ]
  },
  {
   "cell_type": "code",
   "execution_count": null,
   "id": "56ede952",
   "metadata": {},
   "outputs": [],
   "source": [
    "zip"
   ]
  },
  {
   "cell_type": "code",
   "execution_count": null,
   "id": "d7cc23a0",
   "metadata": {},
   "outputs": [],
   "source": [
    "import shutil"
   ]
  },
  {
   "cell_type": "code",
   "execution_count": null,
   "id": "9520fe60",
   "metadata": {},
   "outputs": [],
   "source": [
    "!ls"
   ]
  },
  {
   "cell_type": "code",
   "execution_count": null,
   "id": "5d71526e",
   "metadata": {},
   "outputs": [],
   "source": [
    "if not os.path.isdir('dataset'):\n",
    "        os.makedirs('dataset')"
   ]
  },
  {
   "cell_type": "code",
   "execution_count": null,
   "id": "4ef74ee6-6fb7-4edc-a310-fdb549b3057c",
   "metadata": {},
   "outputs": [],
   "source": [
    "##COLCOAR TODAS AS PASTAS imgs_001... 002 ... em uma pasta ./images\n",
    "## EXECUTAR ALGORITIMO ABAIXO PRA DIVIDIR TODAS AS PASTAS CORRETAMENTES DENTRO DE ./images"
   ]
  },
  {
   "cell_type": "code",
   "execution_count": null,
   "id": "59fbe8ae",
   "metadata": {},
   "outputs": [],
   "source": [
    "def create_folder_if_not_exists(dir):\n",
    "    if not os.path.isdir(dir):\n",
    "        os.makedirs(dir)\n",
    "        return True\n",
    "    return False\n",
    "\n",
    "for(classe, filename) in zip(csv['Finding Labels'], csv['Image Index']):\n",
    "    var = classe.split('|')\n",
    "    print(var)\n",
    "    count = 0\n",
    "    for cls in var:\n",
    "        print(cls)\n",
    "        create_folder_if_not_exists('dataset/'+cls)\n",
    "        shutil.copy('images_001/images/'+filename, 'dataset/'+cls)\n",
    "        count+=1\n",
    "print(f'foram {count} imagens copiadas!')"
   ]
  },
  {
   "cell_type": "code",
   "execution_count": null,
   "id": "c97f5869-6e7c-4b1f-bc5d-b0e2300ddd5c",
   "metadata": {},
   "outputs": [],
   "source": []
  },
  {
   "cell_type": "code",
   "execution_count": null,
   "id": "0431e15f-1d40-4f49-8468-a2022d1072ff",
   "metadata": {},
   "outputs": [],
   "source": [
    "#dividir pra balidação\n",
    "DATA_DIR = './images'\n",
    "file_list = random.sample(DATA_DIR, 5) # vai listar 5 pastas ['./images/PNEUMONIA', './images/HERNIA', './images/BRONQUITE', ...] \n",
    "os.mkdir(\"val\")\n",
    "#criar pastas do file_list em validação\n",
    "for path in file_list:\n",
    "    os.mkdir(\"val/\"+path)\n",
    "    imgs_list = os.listdir(path)\n",
    "    random.sample(path, int(0.2*len(img_list))) #  para pneumonia gera = [img001, img225, img007...]\n",
    "    #agora movo essa imagem dessa pasta pra uma respectiva criada em outra pasta de validação"
   ]
  },
  {
   "cell_type": "code",
   "execution_count": null,
   "id": "2ca722ef",
   "metadata": {},
   "outputs": [],
   "source": [
    "for(classe, filename) in zip(csv['Finding Labels'], csv['Image Index']):\n",
    "    print(classe)\n",
    "    if not os.path.isdir('dataset/'+classe):\n",
    "        os.makedirs('dataset/'+classe)\n",
    "    else:\n",
    "        shutil.copy('images_001/images/'+filename, 'dataset/'+classe)"
   ]
  },
  {
   "cell_type": "code",
   "execution_count": null,
   "id": "2f3dd673",
   "metadata": {},
   "outputs": [],
   "source": [
    "shutil.copy('/home/lucas/Downloads/images_001/images/00000001_000.png', '/home/lucas/Downloads/dataset/')"
   ]
  },
  {
   "cell_type": "code",
   "execution_count": null,
   "id": "ac34d531-485f-4c20-b4ee-671f97042e1a",
   "metadata": {},
   "outputs": [],
   "source": [
    "import os"
   ]
  },
  {
   "cell_type": "code",
   "execution_count": null,
   "id": "6d51f439-a165-4281-b02e-3acac26ed2c9",
   "metadata": {},
   "outputs": [],
   "source": [
    "len(os.listdir('/home/lucas/Downloads/'))"
   ]
  },
  {
   "cell_type": "code",
   "execution_count": null,
   "id": "5ece568b-492e-41e2-9c78-8948adaf5131",
   "metadata": {},
   "outputs": [],
   "source": [
    "teste = \"orange\""
   ]
  },
  {
   "cell_type": "code",
   "execution_count": null,
   "id": "cf7f9228-d4a5-433c-8243-10a2e4cb075b",
   "metadata": {},
   "outputs": [],
   "source": [
    "os.mkdir(\"validação/\"+teste)"
   ]
  },
  {
   "cell_type": "code",
   "execution_count": null,
   "id": "0c4bf76c-eec5-4906-b283-c10e4e00919e",
   "metadata": {},
   "outputs": [],
   "source": [
    "### estudo"
   ]
  },
  {
   "cell_type": "code",
   "execution_count": null,
   "id": "9b157954-c45b-4446-8058-820b74ccf1c1",
   "metadata": {},
   "outputs": [],
   "source": [
    "import pandas as pd"
   ]
  },
  {
   "cell_type": "code",
   "execution_count": null,
   "id": "bdf07fdf-2048-4d13-b131-c4fb0c43e720",
   "metadata": {},
   "outputs": [],
   "source": [
    "all_ray_x = pd.read_csv(\"/home/lucas/Downloads/Data_Entry_2017.csv\")"
   ]
  },
  {
   "cell_type": "code",
   "execution_count": null,
   "id": "b73d0159-765c-4e94-a462-ab903e1017af",
   "metadata": {},
   "outputs": [],
   "source": [
    "all_ray_x"
   ]
  },
  {
   "cell_type": "code",
   "execution_count": null,
   "id": "a8472380-6602-4b19-811a-dff3a5c45e4d",
   "metadata": {},
   "outputs": [],
   "source": [
    "all_ray_x['Patient ID'] "
   ]
  },
  {
   "cell_type": "code",
   "execution_count": null,
   "id": "8d2d5898-216a-4e0a-b934-ad9d2e48bf2d",
   "metadata": {},
   "outputs": [],
   "source": [
    "from numpy.random import RandomState\n",
    "rng = RandomState()"
   ]
  },
  {
   "cell_type": "code",
   "execution_count": null,
   "id": "cacb9fbe-8172-4bcc-a114-b32cba421775",
   "metadata": {},
   "outputs": [],
   "source": [
    "train = all_ray_x.sample(frac=0.7, random_state=rng)\n",
    "test = all_ray_x.loc[~all_ray_x.index.isin(train.index)]"
   ]
  },
  {
   "cell_type": "code",
   "execution_count": null,
   "id": "7d6fdc54-043e-45ee-b18a-f603fc80d4f9",
   "metadata": {},
   "outputs": [],
   "source": [
    "train"
   ]
  },
  {
   "cell_type": "code",
   "execution_count": null,
   "id": "0f9ce2db-5c35-4ad8-ac8d-01cc292fcfa2",
   "metadata": {},
   "outputs": [],
   "source": [
    "test"
   ]
  },
  {
   "cell_type": "code",
   "execution_count": null,
   "id": "564d84f1-bcd9-44b1-9f02-df65c6cfd51b",
   "metadata": {},
   "outputs": [],
   "source": [
    "diseases = ['Cardiomegaly','Emphysema','Effusion','Hernia','Nodule','Pneumothorax','Atelectasis',\n",
    "            'Pleural_Thickening','Mass','Edema','Consolidation','Infiltration','Fibrosis','Pneumonia']\n",
    "#Number diseases\n",
    "for disease in diseases :\n",
    "    all_ray_x[disease] = all_ray_x['Finding Labels'].apply(lambda x: 1 if disease in x else 0)"
   ]
  },
  {
   "cell_type": "code",
   "execution_count": null,
   "id": "8b9aaaa3-4cf2-4285-9f96-6d4212eb3484",
   "metadata": {},
   "outputs": [],
   "source": [
    "####IDEIA\n",
    "#1 PARTE - DIVIDIR DATASET POR PACIENTE, DICIONARIO_PACIENTE - paciente: ( (dir, classe), ..(...))\n",
    "pacientes = {}\n",
    "for(classe, filename, idPaciente) in zip(all_ray_x['Finding Labels'], all_ray_x['Image Index'], all_ray_x['Patient ID']):\n",
    "    if not (pacientes.get(idPaciente) == None):\n",
    "        #pego o q tem guardado e adiciono mais uma coisa\n",
    "        aux = pacientes.get(idPaciente) #retorna um list de tuplas ou tupla\n",
    "        aux.append((filename, classe))\n",
    "        pacientes.update({idPaciente : aux})\n",
    "    else:\n",
    "    #  primeira lida aqui\n",
    "        value = []\n",
    "        value.append((filename, classe))\n",
    "        pacientes[idPaciente] = value\n",
    "#2 PARTE - CRIAR PASTA train, test, val\n",
    "    \n",
    "\n",
    "#3 PARTE - ler dicionario de pacientes, verificar todas suas tuplas, criar pastas em train/classe_X, até certo limite 70% do total de raios x praquela doença,\n",
    "#qnd alcançar, ir pra validação, dps teste\n"
   ]
  },
  {
   "cell_type": "code",
   "execution_count": null,
   "id": "ed7efb8d",
   "metadata": {},
   "outputs": [],
   "source": [
    "pacientes"
   ]
  },
  {
   "cell_type": "code",
   "execution_count": null,
   "id": "1c3a8c0f-bbfa-4a14-9b83-84b71269e082",
   "metadata": {},
   "outputs": [],
   "source": [
    "pacientes"
   ]
  },
  {
   "cell_type": "code",
   "execution_count": null,
   "id": "17d9eeb3-772c-44fa-b3df-f6240b13baac",
   "metadata": {},
   "outputs": [],
   "source": [
    "for paciente, xrays in pacientes.items():\n",
    "    print(paciente, xrays)\n",
    "    break\n",
    "\n",
    "print(len(pacientes))"
   ]
  },
  {
   "cell_type": "code",
   "execution_count": null,
   "id": "1de85938-f630-4af0-b9da-e82d344fd711",
   "metadata": {
    "tags": []
   },
   "outputs": [],
   "source": [
    "def create_folder_if_not_exists(dir):\n",
    "    if not os.path.isdir(dir):\n",
    "        os.makedirs(dir)\n",
    "        return True\n",
    "    return False\n",
    "\n",
    "\n",
    "# for(classe, filename) in zip(csv['Finding Labels'], csv['Image Index']):\n",
    "n_pacientes = 0\n",
    "\n",
    "\n",
    "def count_Dataset():\n",
    "    aux_cont = {}\n",
    "    for paciente, values in pacientes.items():\n",
    "        print(\n",
    "            f'==================      PACIENTE: {paciente}      ==================')\n",
    "        for item in values:\n",
    "            var = item[1].split('|')\n",
    "            img_path = item[0]\n",
    "            print(values)\n",
    "            for cls in var:\n",
    "                print(cls)\n",
    "                aux_cont[cls] = 1 if aux_cont.get(\n",
    "                    cls) == None else aux_cont.get(cls)+1\n",
    "    return aux_cont\n",
    "# aux_cont = count_Dataset()\n",
    "# print(aux_cont)\n",
    "\n",
    "def train_test_val():\n",
    "    # Cardiomegaly, Emphysema, Effusion, Hernia, Nodule, Pneumothorax, Atelectasis, Pleural_Thickening, Mass, Edema, Consolidation, Infiltration, Fibrosis, Pneumonia = 0, 0, 0, 0, 0, 0, 0, 0, 0, 0, 0, 0, 0, 0\n",
    "    for paciente, values in pacientes.items():\n",
    "        print(\n",
    "            f'==================      PACIENTE: {paciente}      ==================')\n",
    "        for item in values: #values todas tuplas possiveis do mesmo paciente\n",
    "            var = item[1].split('|')  # pra cada tupla, var  = list de classes em uma multilabebl ex: Pneumonia|Hernia, var = ['Pneumonia', 'Hernia']\n",
    "            filename = item[0] #filename, endereço da img relativo\n",
    "            # print(values)\n",
    "            for cls in var:\n",
    "                print(paciente)\n",
    "                # TRAIN\n",
    "                if (paciente <= 21563):\n",
    "                    print('train')\n",
    "                    # create_folder_if_not_exists('dataset/'+cls)\n",
    "                    # shutil.copy('/media/lucas/BACKUP/datasets/images_001/'+filename, 'dataset/'+cls)\n",
    "                # TEST\n",
    "                elif (paciente > 21563 and paciente <=27724):\n",
    "                    pass\n",
    "                    # create_folder_if_not_exists('dataset/'+cls)\n",
    "                    # shutil.copy('/media/lucas/BACKUP/datasets/images_001/'+filename, 'dataset/'+cls)\n",
    "                # VAL\n",
    "                else:\n",
    "                    print('val')\n",
    "\n",
    "\n",
    "a = train_test_val()\n",
    "\n"
   ]
  },
  {
   "cell_type": "code",
   "execution_count": null,
   "id": "a70eda66",
   "metadata": {},
   "outputs": [],
   "source": [
    "x = 10\n",
    "print (\"par\" if x % 2 == 0 else \"impar\")"
   ]
  },
  {
   "cell_type": "code",
   "execution_count": null,
   "id": "e4c25c73",
   "metadata": {},
   "outputs": [],
   "source": [
    "a = 30805\n",
    "b = int(0.7*a)\n",
    "c = int(0.2*a)\n",
    "d = int(0.1*a)\n",
    "print(b,c,d)\n",
    "print(b+c+d)\n",
    "print(f'TOTAL = {a}, 70% = {b}, SOBRA = {a-b}')\n",
    "\n",
    "1943+833\n",
    "21563+6161"
   ]
  }
 ],
 "metadata": {
  "kernelspec": {
   "display_name": "Python 3",
   "language": "python",
   "name": "python3"
  },
  "language_info": {
   "codemirror_mode": {
    "name": "ipython",
    "version": 3
   },
   "file_extension": ".py",
   "mimetype": "text/x-python",
   "name": "python",
   "nbconvert_exporter": "python",
   "pygments_lexer": "ipython3",
   "version": "3.10.7"
  },
  "vscode": {
   "interpreter": {
    "hash": "916dbcbb3f70747c44a77c7bcd40155683ae19c65e1c03b4aa3499c5328201f1"
   }
  }
 },
 "nbformat": 4,
 "nbformat_minor": 5
}
